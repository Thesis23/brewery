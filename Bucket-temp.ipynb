{
 "cells": [
  {
   "cell_type": "code",
   "execution_count": 1,
   "id": "2b3973a6",
   "metadata": {},
   "outputs": [],
   "source": [
    "import pandas as pd\n",
    "import numpy as np\n",
    "import os\n",
    "import re\n",
    "import matplotlib.pyplot as plt\n",
    "%matplotlib inline\n",
    "np.random.seed(68)"
   ]
  },
  {
   "cell_type": "code",
   "execution_count": 2,
   "id": "a7b83c99",
   "metadata": {},
   "outputs": [],
   "source": [
    "def load_data(filename):\n",
    "    return pd.read_csv(filename, index_col=False)"
   ]
  },
  {
   "cell_type": "code",
   "execution_count": 5,
   "id": "c423b5d9",
   "metadata": {},
   "outputs": [],
   "source": [
    "def organize_temp_data(from_file, dst_file, label, indicator):\n",
    "    read_file = open(from_file, 'r') \n",
    "    Lines = read_file.readlines()\n",
    "    read_file.close()\n",
    "\n",
    "    # writing to file replace the spaces with commas\n",
    "    write_file = open('sensors/'+ dst_file, 'w')\n",
    "    counter = 0\n",
    "\n",
    "    for line in Lines:\n",
    "        if counter == 0:\n",
    "            write_file.write(label+'\\n')\n",
    "            counter = 1\n",
    "        line.rstrip()\n",
    "        if(indicator not in line):continue\n",
    "        line = str(re.sub('[^\\d\\.]', '', line))\n",
    "        if indicator not in 'Roomtemp':\n",
    "            line = line[1:]\n",
    "        line+= '\\n'\n",
    "        write_file.write(line)\n",
    "\n",
    "    write_file.close()"
   ]
  },
  {
   "cell_type": "code",
   "execution_count": 6,
   "id": "6b68e848",
   "metadata": {},
   "outputs": [],
   "source": [
    "organize_temp_data('big_bucket.csv', 'bucket-1Temp.csv', 'temp', '1TEMP')\n",
    "organize_temp_data('big_bucket.csv', 'bucket-2Temp.csv', 'temp', '2TEMP')\n",
    "organize_temp_data('big_bucket.csv', 'bucket-roomTemp.csv', 'temp', 'Roomtemp')"
   ]
  },
  {
   "cell_type": "code",
   "execution_count": 13,
   "id": "00ff342a",
   "metadata": {},
   "outputs": [],
   "source": [
    "bucket_1_temp = load_data(\"sensors/bucket-1Temp.csv\")\n",
    "bucket_2_temp = load_data(\"sensors/bucket-2Temp.csv\")\n",
    "bucket_room_temp = load_data(\"sensors/bucket-roomTemp.csv\")"
   ]
  },
  {
   "cell_type": "code",
   "execution_count": 14,
   "id": "1927cbee",
   "metadata": {},
   "outputs": [],
   "source": [
    "def organize_temp_data_hour(from_file, dst_file, label, indicator):\n",
    "    read_file = open('sensors/'+ from_file, 'r')\n",
    "    Lines = read_file.readlines()\n",
    "    read_file.close()\n",
    "\n",
    "    write_file = open('sensorsHourly/'+ dst_file, 'w')\n",
    "    sample = 1\n",
    "    averageList = []\n",
    "    counter = 0\n",
    "\n",
    "    for line in Lines:\n",
    "        if counter == 0:\n",
    "            write_file.write(label+'\\n')\n",
    "            counter = 1\n",
    "        if(sample % 7200 == 0):\n",
    "            line+= '\\n'\n",
    "            write_file.write(str(sum(averageList) / len(averageList)) +'\\n')\n",
    "            averageList = []\n",
    "        line.strip()\n",
    "        if(indicator in line):continue\n",
    "        averageList.append(float(line))\n",
    "        sample = sample + 1\n",
    "\n",
    "    write_file.close()"
   ]
  },
  {
   "cell_type": "code",
   "execution_count": null,
   "id": "afad1b5d",
   "metadata": {},
   "outputs": [],
   "source": [
    "organize_temp_data_hour('bucket-1Temp.csv', 'bucket-1TempHour.csv', 'temp', 'temp')\n",
    "organize_temp_data_hour('bucket-2Temp.csv', 'bucket-2TempHour.csv', 'temp', 'temp')\n",
    "organize_temp_data_hour('bucket-roomTemp.csv', 'bucket-roomTempHour.csv', 'temp', 'temp')"
   ]
  },
  {
   "cell_type": "code",
   "execution_count": null,
   "id": "2ffd4be8",
   "metadata": {},
   "outputs": [],
   "source": [
    "data1Hour = load_data(\"sensorsHourly/bucket-1TempHour.csv\")\n",
    "data2Hour = load_data(\"sensorsHourly/bucket-2TempHour.csv\")\n",
    "dataRoomHour = load_data(\"sensorsHourly/bucket-roomTempHour.csv\")"
   ]
  },
  {
   "cell_type": "code",
   "execution_count": null,
   "id": "00c8a426",
   "metadata": {},
   "outputs": [],
   "source": [
    "temppoints1Hour = data1Hour['temp']\n",
    "temppoints2Hour = data2Hour['temp']\n",
    "temppointsRoomHour = dataRoomHour['temp']\n",
    "\n",
    "plt.xlabel('hours', fontsize=12)\n",
    "plt.ylabel('degrees', fontsize=12)\n",
    "\n",
    "plt.plot(temppoints1Hour, linestyle = 'solid', color='blue')\n",
    "plt.plot(temppoints2Hour, linestyle = 'solid', color='red')\n",
    "plt.plot(temppointsRoomHour, linestyle = 'solid', color='orange')\n",
    "plt.show()"
   ]
  },
  {
   "cell_type": "code",
   "execution_count": null,
   "id": "ff283763",
   "metadata": {},
   "outputs": [],
   "source": []
  },
  {
   "cell_type": "code",
   "execution_count": null,
   "id": "61ee9980",
   "metadata": {},
   "outputs": [],
   "source": []
  }
 ],
 "metadata": {
  "kernelspec": {
   "display_name": "Python 3 (ipykernel)",
   "language": "python",
   "name": "python3"
  },
  "language_info": {
   "codemirror_mode": {
    "name": "ipython",
    "version": 3
   },
   "file_extension": ".py",
   "mimetype": "text/x-python",
   "name": "python",
   "nbconvert_exporter": "python",
   "pygments_lexer": "ipython3",
   "version": "3.9.12"
  }
 },
 "nbformat": 4,
 "nbformat_minor": 5
}
