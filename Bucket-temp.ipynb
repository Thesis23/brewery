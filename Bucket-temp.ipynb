{
 "cells": [
  {
   "cell_type": "code",
   "execution_count": 1,
   "id": "2b3973a6",
   "metadata": {},
   "outputs": [],
   "source": [
    "# Step 1 import all libraries\n",
    "import pandas as pd\n",
    "import numpy as np\n",
    "import os\n",
    "import re\n",
    "import matplotlib.pyplot as plt\n",
    "%matplotlib inline\n",
    "# to make this notebook's output identical at every run\n",
    "np.random.seed(68)"
   ]
  },
  {
   "cell_type": "code",
   "execution_count": 2,
   "id": "a7b83c99",
   "metadata": {},
   "outputs": [],
   "source": [
    "# Step 2 import your dataset\n",
    "# Loading the data from the file\n",
    "def load_data(filename):\n",
    "    return pd.read_csv(filename, index_col=False)"
   ]
  },
  {
   "cell_type": "code",
   "execution_count": 40,
   "id": "c423b5d9",
   "metadata": {},
   "outputs": [],
   "source": [
    "# Change the first line to  \"nr del x y z temp\"\n",
    "# Using readlines()\n",
    "file1 = open('big_bucket2.csv', 'r')\n",
    "Lines = file1.readlines()\n",
    "file1.close()\n",
    "\n",
    "# writing to file replace the spaces with commas\n",
    "file2 = open('bucket-1Temp.csv', 'w')\n",
    "\n",
    "for line in Lines:\n",
    "    line.rstrip()\n",
    "    if(\"1TEMP\" not in line):continue #Roomtemp\n",
    "    line = str(re.sub('[^\\d\\.]', '', line))\n",
    "    line = line[1:]\n",
    "    line+= '\\n'\n",
    "    file2.write(line)\n",
    "\n",
    "file2.close()"
   ]
  },
  {
   "cell_type": "code",
   "execution_count": 41,
   "id": "00ff342a",
   "metadata": {},
   "outputs": [],
   "source": [
    "data1 = load_data(\"bucket-1Temp.csv\")\n",
    "data2 = load_data(\"bucket-2Temp.csv\")"
   ]
  },
  {
   "cell_type": "code",
   "execution_count": 60,
   "id": "1927cbee",
   "metadata": {},
   "outputs": [],
   "source": [
    "file1 = open('bucket-2Temp.csv', 'r')\n",
    "Lines = file1.readlines()\n",
    "file1.close()\n",
    "\n",
    "file2 = open('bucket-2TempHour.csv', 'w')\n",
    "sample = 1\n",
    "averageList = []\n",
    "\n",
    "for line in Lines:\n",
    "    if(sample % 7200 == 0):\n",
    "        line+= '\\n'\n",
    "        file2.write(str(sum(averageList) / len(averageList)) +'\\n')\n",
    "        averageList = []\n",
    "    line.strip()\n",
    "    if(\"temp\" in line):continue\n",
    "    averageList.append(float(line))\n",
    "    sample = sample + 1\n",
    "\n",
    "file2.close()"
   ]
  },
  {
   "cell_type": "code",
   "execution_count": 66,
   "id": "2ffd4be8",
   "metadata": {},
   "outputs": [],
   "source": [
    "data1Hour = load_data(\"bucket-1TempHour.csv\")\n",
    "data2Hour = load_data(\"bucket-2TempHour.csv\")"
   ]
  },
  {
   "cell_type": "code",
   "execution_count": 70,
   "id": "00c8a426",
   "metadata": {},
   "outputs": [
    {
     "data": {
      "image/png": "[encoded data removed]",
      "text/plain": [
       "<Figure size 432x288 with 1 Axes>"
      ]
     },
     "metadata": {
      "needs_background": "light"
     },
     "output_type": "display_data"
    }
   ],
   "source": [
    "temppoints1Hour = data1Hour['temp']\n",
    "temppoints2Hour = data2Hour['temp']\n",
    "\n",
    "plt.xlabel('hour', fontsize=12)\n",
    "plt.ylabel('degrees', fontsize=12)\n",
    "\n",
    "plt.plot(temppoints1Hour, linestyle = 'solid', color='blue')\n",
    "plt.plot(temppoints2Hour, linestyle = 'solid', color='red')\n",
    "plt.show()"
   ]
  },
  {
   "cell_type": "code",
   "execution_count": null,
   "id": "b2b8f6f0",
   "metadata": {},
   "outputs": [],
   "source": []
  }
 ],
 "metadata": {
  "kernelspec": {
   "display_name": "Python 3 (ipykernel)",
   "language": "python",
   "name": "python3"
  },
  "language_info": {
   "codemirror_mode": {
    "name": "ipython",
    "version": 3
   },
   "file_extension": ".py",
   "mimetype": "text/x-python",
   "name": "python",
   "nbconvert_exporter": "python",
   "pygments_lexer": "ipython3",
   "version": "3.9.12"
  }
 },
 "nbformat": 4,
 "nbformat_minor": 5
}
