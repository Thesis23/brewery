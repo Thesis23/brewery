{
 "cells": [
  {
   "cell_type": "code",
   "execution_count": 1,
   "id": "c4486b1e",
   "metadata": {},
   "outputs": [],
   "source": [
    "# Step 1 import all libraries\n",
    "import pandas as pd\n",
    "import numpy as np\n",
    "import os\n",
    "# to make this notebook's output identical at every run\n",
    "np.random.seed(68)"
   ]
  },
  {
   "cell_type": "code",
   "execution_count": 2,
   "id": "1c7e1043",
   "metadata": {},
   "outputs": [],
   "source": [
    "# Step 2 import your dataset\n",
    "# Loading the data from the file\n",
    "def load_data(filename):\n",
    "    return pd.read_csv(filename, index_col=False)"
   ]
  },
  {
   "cell_type": "code",
   "execution_count": 3,
   "id": "48ae88ea",
   "metadata": {},
   "outputs": [],
   "source": [
    "# Change the first line to  \"nr del x y z temp\"\n",
    "# Using readlines()\n",
    "file1 = open('bottle2.csv', 'r')\n",
    "Lines = file1.readlines()\n",
    "file1.close()\n",
    "\n",
    "# writing to file replace the spaces with commas\n",
    "file2 = open('bottle4.csv', 'w')\n",
    "\n",
    "for line in Lines:\n",
    "    line.rstrip()\n",
    "    if(line == \"-\"):continue\n",
    "    file2.write(line.replace(\" \", \",\"))\n",
    "\n",
    "file2.close()"
   ]
  },
  {
   "cell_type": "code",
   "execution_count": 4,
   "id": "d152f439",
   "metadata": {},
   "outputs": [],
   "source": [
    "data = load_data(\"bottle4.csv\")\n",
    "data.drop('del', inplace=True, axis=1)"
   ]
  },
  {
   "cell_type": "code",
   "execution_count": 5,
   "id": "123c0924",
   "metadata": {},
   "outputs": [
    {
     "data": {
      "text/html": [
       "<div>\n",
       "<style scoped>\n",
       "    .dataframe tbody tr th:only-of-type {\n",
       "        vertical-align: middle;\n",
       "    }\n",
       "\n",
       "    .dataframe tbody tr th {\n",
       "        vertical-align: top;\n",
       "    }\n",
       "\n",
       "    .dataframe thead th {\n",
       "        text-align: right;\n",
       "    }\n",
       "</style>\n",
       "<table border=\"1\" class=\"dataframe\">\n",
       "  <thead>\n",
       "    <tr style=\"text-align: right;\">\n",
       "      <th></th>\n",
       "      <th>nr</th>\n",
       "      <th>x</th>\n",
       "      <th>y</th>\n",
       "      <th>z</th>\n",
       "      <th>temp</th>\n",
       "    </tr>\n",
       "  </thead>\n",
       "  <tbody>\n",
       "    <tr>\n",
       "      <th>0</th>\n",
       "      <td>0</td>\n",
       "      <td>0.04</td>\n",
       "      <td>-1.02</td>\n",
       "      <td>0.03</td>\n",
       "      <td>22.32</td>\n",
       "    </tr>\n",
       "    <tr>\n",
       "      <th>1</th>\n",
       "      <td>1</td>\n",
       "      <td>-0.00</td>\n",
       "      <td>0.05</td>\n",
       "      <td>1.03</td>\n",
       "      <td>23.21</td>\n",
       "    </tr>\n",
       "    <tr>\n",
       "      <th>2</th>\n",
       "      <td>0</td>\n",
       "      <td>0.04</td>\n",
       "      <td>-1.02</td>\n",
       "      <td>0.03</td>\n",
       "      <td>22.27</td>\n",
       "    </tr>\n",
       "    <tr>\n",
       "      <th>3</th>\n",
       "      <td>1</td>\n",
       "      <td>0.00</td>\n",
       "      <td>0.06</td>\n",
       "      <td>1.03</td>\n",
       "      <td>23.17</td>\n",
       "    </tr>\n",
       "    <tr>\n",
       "      <th>4</th>\n",
       "      <td>0</td>\n",
       "      <td>0.03</td>\n",
       "      <td>-1.02</td>\n",
       "      <td>0.03</td>\n",
       "      <td>22.37</td>\n",
       "    </tr>\n",
       "  </tbody>\n",
       "</table>\n",
       "</div>"
      ],
      "text/plain": [
       "   nr     x     y     z   temp\n",
       "0   0  0.04 -1.02  0.03  22.32\n",
       "1   1 -0.00  0.05  1.03  23.21\n",
       "2   0  0.04 -1.02  0.03  22.27\n",
       "3   1  0.00  0.06  1.03  23.17\n",
       "4   0  0.03 -1.02  0.03  22.37"
      ]
     },
     "execution_count": 5,
     "metadata": {},
     "output_type": "execute_result"
    }
   ],
   "source": [
    "data.head()"
   ]
  },
  {
   "cell_type": "code",
   "execution_count": 6,
   "id": "1e37db55",
   "metadata": {},
   "outputs": [
    {
     "data": {
      "text/html": [
       "<div>\n",
       "<style scoped>\n",
       "    .dataframe tbody tr th:only-of-type {\n",
       "        vertical-align: middle;\n",
       "    }\n",
       "\n",
       "    .dataframe tbody tr th {\n",
       "        vertical-align: top;\n",
       "    }\n",
       "\n",
       "    .dataframe thead th {\n",
       "        text-align: right;\n",
       "    }\n",
       "</style>\n",
       "<table border=\"1\" class=\"dataframe\">\n",
       "  <thead>\n",
       "    <tr style=\"text-align: right;\">\n",
       "      <th></th>\n",
       "      <th>nr</th>\n",
       "      <th>x</th>\n",
       "      <th>y</th>\n",
       "      <th>z</th>\n",
       "      <th>temp</th>\n",
       "    </tr>\n",
       "  </thead>\n",
       "  <tbody>\n",
       "    <tr>\n",
       "      <th>0</th>\n",
       "      <td>0</td>\n",
       "      <td>0.04</td>\n",
       "      <td>-1.02</td>\n",
       "      <td>0.03</td>\n",
       "      <td>22.32</td>\n",
       "    </tr>\n",
       "    <tr>\n",
       "      <th>2</th>\n",
       "      <td>0</td>\n",
       "      <td>0.04</td>\n",
       "      <td>-1.02</td>\n",
       "      <td>0.03</td>\n",
       "      <td>22.27</td>\n",
       "    </tr>\n",
       "    <tr>\n",
       "      <th>4</th>\n",
       "      <td>0</td>\n",
       "      <td>0.03</td>\n",
       "      <td>-1.02</td>\n",
       "      <td>0.03</td>\n",
       "      <td>22.37</td>\n",
       "    </tr>\n",
       "    <tr>\n",
       "      <th>6</th>\n",
       "      <td>0</td>\n",
       "      <td>0.04</td>\n",
       "      <td>-1.03</td>\n",
       "      <td>0.02</td>\n",
       "      <td>22.37</td>\n",
       "    </tr>\n",
       "    <tr>\n",
       "      <th>8</th>\n",
       "      <td>0</td>\n",
       "      <td>0.04</td>\n",
       "      <td>-0.73</td>\n",
       "      <td>-0.06</td>\n",
       "      <td>22.27</td>\n",
       "    </tr>\n",
       "  </tbody>\n",
       "</table>\n",
       "</div>"
      ],
      "text/plain": [
       "   nr     x     y     z   temp\n",
       "0   0  0.04 -1.02  0.03  22.32\n",
       "2   0  0.04 -1.02  0.03  22.27\n",
       "4   0  0.03 -1.02  0.03  22.37\n",
       "6   0  0.04 -1.03  0.02  22.37\n",
       "8   0  0.04 -0.73 -0.06  22.27"
      ]
     },
     "execution_count": 6,
     "metadata": {},
     "output_type": "execute_result"
    }
   ],
   "source": [
    "df1 = data[data['nr'] == 0]\n",
    "df1.head()"
   ]
  },
  {
   "cell_type": "code",
   "execution_count": 7,
   "id": "ca9e925e",
   "metadata": {},
   "outputs": [
    {
     "data": {
      "text/html": [
       "<div>\n",
       "<style scoped>\n",
       "    .dataframe tbody tr th:only-of-type {\n",
       "        vertical-align: middle;\n",
       "    }\n",
       "\n",
       "    .dataframe tbody tr th {\n",
       "        vertical-align: top;\n",
       "    }\n",
       "\n",
       "    .dataframe thead th {\n",
       "        text-align: right;\n",
       "    }\n",
       "</style>\n",
       "<table border=\"1\" class=\"dataframe\">\n",
       "  <thead>\n",
       "    <tr style=\"text-align: right;\">\n",
       "      <th></th>\n",
       "      <th>nr</th>\n",
       "      <th>x</th>\n",
       "      <th>y</th>\n",
       "      <th>z</th>\n",
       "      <th>temp</th>\n",
       "    </tr>\n",
       "  </thead>\n",
       "  <tbody>\n",
       "    <tr>\n",
       "      <th>1</th>\n",
       "      <td>1</td>\n",
       "      <td>-0.00</td>\n",
       "      <td>0.05</td>\n",
       "      <td>1.03</td>\n",
       "      <td>23.21</td>\n",
       "    </tr>\n",
       "    <tr>\n",
       "      <th>3</th>\n",
       "      <td>1</td>\n",
       "      <td>0.00</td>\n",
       "      <td>0.06</td>\n",
       "      <td>1.03</td>\n",
       "      <td>23.17</td>\n",
       "    </tr>\n",
       "    <tr>\n",
       "      <th>5</th>\n",
       "      <td>1</td>\n",
       "      <td>-0.01</td>\n",
       "      <td>0.05</td>\n",
       "      <td>1.02</td>\n",
       "      <td>23.21</td>\n",
       "    </tr>\n",
       "    <tr>\n",
       "      <th>7</th>\n",
       "      <td>1</td>\n",
       "      <td>0.01</td>\n",
       "      <td>0.05</td>\n",
       "      <td>1.03</td>\n",
       "      <td>23.31</td>\n",
       "    </tr>\n",
       "    <tr>\n",
       "      <th>9</th>\n",
       "      <td>1</td>\n",
       "      <td>-0.10</td>\n",
       "      <td>0.17</td>\n",
       "      <td>0.92</td>\n",
       "      <td>23.21</td>\n",
       "    </tr>\n",
       "  </tbody>\n",
       "</table>\n",
       "</div>"
      ],
      "text/plain": [
       "   nr     x     y     z   temp\n",
       "1   1 -0.00  0.05  1.03  23.21\n",
       "3   1  0.00  0.06  1.03  23.17\n",
       "5   1 -0.01  0.05  1.02  23.21\n",
       "7   1  0.01  0.05  1.03  23.31\n",
       "9   1 -0.10  0.17  0.92  23.21"
      ]
     },
     "execution_count": 7,
     "metadata": {},
     "output_type": "execute_result"
    }
   ],
   "source": [
    "df2 = data[data['nr'] == 1]\n",
    "df2.head()"
   ]
  },
  {
   "cell_type": "code",
   "execution_count": 8,
   "id": "b8faa1a1",
   "metadata": {
    "scrolled": true
   },
   "outputs": [
    {
     "name": "stderr",
     "output_type": "stream",
     "text": [
      "C:\\Users\\Sandra\\AppData\\Local\\Temp\\ipykernel_15920\\258070277.py:1: SettingWithCopyWarning: \n",
      "A value is trying to be set on a copy of a slice from a DataFrame\n",
      "\n",
      "See the caveats in the documentation: https://pandas.pydata.org/pandas-docs/stable/user_guide/indexing.html#returning-a-view-versus-a-copy\n",
      "  df1.drop(df1[df1['x'] > abs(0.14)].index, inplace=True)\n"
     ]
    },
    {
     "data": {
      "image/png": "[encoded data removed]",
      "text/plain": [
       "<Figure size 432x288 with 1 Axes>"
      ]
     },
     "metadata": {
      "needs_background": "light"
     },
     "output_type": "display_data"
    }
   ],
   "source": [
    "df1.drop(df1[df1['x'] > abs(0.14)].index, inplace=True)\n",
    "#importing matplotlib.pyplot from\n",
    "# python\n",
    "import matplotlib.pyplot as plt\n",
    "%matplotlib inline\n",
    "\n",
    "# creating an empty figure for plotting\n",
    "fig = plt.figure()\n",
    " \n",
    "# Creating my subplot with 1x2 axis and defining\n",
    "# it as the second plot with projection as 3D\n",
    "ax = fig.add_subplot(1, 2, 2, projection='3d')\n",
    " \n",
    "# defining a set of points for X,Y and Z\n",
    "X1 = df1['x']\n",
    "Y1 = df1['y']\n",
    "Z1 = df1['z']\n",
    " \n",
    "# Plotting 3 points X1,Y1,Z1 with\n",
    "# color as green\n",
    "ax.scatter(X1, Y1, Z1, color='blue')\n",
    "\n",
    "# Showing the above plot\n",
    "plt.show()"
   ]
  },
  {
   "cell_type": "code",
   "execution_count": 9,
   "id": "378e1294",
   "metadata": {
    "scrolled": true
   },
   "outputs": [
    {
     "data": {
      "image/png": "[encoded data removed]",
      "text/plain": [
       "<Figure size 432x288 with 1 Axes>"
      ]
     },
     "metadata": {
      "needs_background": "light"
     },
     "output_type": "display_data"
    }
   ],
   "source": [
    "X1 = X1.iloc[110000:]\n",
    "xpoints = X1.head(1000)\n",
    "plt.plot(xpoints, linestyle = 'solid')\n",
    "\n",
    "Y1 = Y1.iloc[110000:]\n",
    "ypoints = Y1.head(1000)\n",
    "plt.plot(ypoints, linestyle = 'solid')\n",
    "\n",
    "Z1 = Z1.iloc[110000:]\n",
    "zpoints = Z1.head(1000)\n",
    "plt.plot(zpoints, linestyle = 'solid')\n",
    "\n",
    "\n",
    "plt.show()"
   ]
  },
  {
   "cell_type": "code",
   "execution_count": null,
   "id": "a99fe53b",
   "metadata": {},
   "outputs": [],
   "source": []
  }
 ],
 "metadata": {
  "kernelspec": {
   "display_name": "Python 3 (ipykernel)",
   "language": "python",
   "name": "python3"
  },
  "language_info": {
   "codemirror_mode": {
    "name": "ipython",
    "version": 3
   },
   "file_extension": ".py",
   "mimetype": "text/x-python",
   "name": "python",
   "nbconvert_exporter": "python",
   "pygments_lexer": "ipython3",
   "version": "3.9.12"
  }
 },
 "nbformat": 4,
 "nbformat_minor": 5
}
